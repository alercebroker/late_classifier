{
 "cells": [
  {
   "cell_type": "code",
   "execution_count": 1,
   "metadata": {},
   "outputs": [],
   "source": [
    "import numpy as np\n",
    "import pandas as pd\n",
    "from lc_classifier.features import CustomHierarchicalExtractor"
   ]
  },
  {
   "cell_type": "code",
   "execution_count": 2,
   "metadata": {},
   "outputs": [
    {
     "name": "stderr",
     "output_type": "stream",
     "text": [
      " /home/ignacio/miniconda3/envs/lc-classifier/lib/python3.7/site-packages/pyarrow/pandas_compat.py:708: FutureWarning:.labels was deprecated in version 0.24.0. Use .codes instead.\n",
      " /home/ignacio/miniconda3/envs/lc-classifier/lib/python3.7/site-packages/pyarrow/pandas_compat.py:735: FutureWarning:the 'labels' keyword is deprecated, use 'codes' instead\n",
      " /home/ignacio/miniconda3/envs/lc-classifier/lib/python3.7/site-packages/pyarrow/pandas_compat.py:752: FutureWarning:.labels was deprecated in version 0.24.0. Use .codes instead.\n"
     ]
    }
   ],
   "source": [
    "detections = pd.read_parquet('detections_sample.parquet')\n",
    "non_detections = pd.read_parquet('non_detections_sample.parquet')\n",
    "object_info = pd.read_parquet('object_info_sample.parquet').set_index('objectId')"
   ]
  },
  {
   "cell_type": "code",
   "execution_count": 3,
   "metadata": {},
   "outputs": [],
   "source": [
    "detections.index.name = 'oid'\n",
    "non_detections.index.name = 'oid'\n",
    "object_info.index.name = 'oid'"
   ]
  },
  {
   "cell_type": "code",
   "execution_count": 4,
   "metadata": {},
   "outputs": [],
   "source": [
    "non_detections['mjd'] = non_detections['jd'] - 2400000.5"
   ]
  },
  {
   "cell_type": "code",
   "execution_count": 5,
   "metadata": {},
   "outputs": [],
   "source": [
    "doid = detections.index.unique().values\n",
    "ndoid = non_detections.index.unique().values\n",
    "ooid = object_info.index.unique().values\n",
    "object_info = object_info.loc[doid]"
   ]
  },
  {
   "cell_type": "code",
   "execution_count": 6,
   "metadata": {},
   "outputs": [],
   "source": [
    "features_computer = CustomHierarchicalExtractor()"
   ]
  },
  {
   "cell_type": "code",
   "execution_count": 7,
   "metadata": {},
   "outputs": [
    {
     "name": "stderr",
     "output_type": "stream",
     "text": [
      " /home/ignacio/Projects/lc_classifier/lc_classifier/features/extractors/mhps_extractor.py:54: RuntimeWarning:invalid value encountered in true_divide\n",
      " /home/ignacio/Projects/turbo-fats/turbofats/features/structure_function.py:88: RuntimeWarning:invalid value encountered in sqrt\n",
      " /home/ignacio/Projects/turbo-fats/turbofats/features/structure_function.py:97: RuntimeWarning:invalid value encountered in greater\n",
      " /home/ignacio/Projects/turbo-fats/turbofats/features/structure_function.py:88: RuntimeWarning:invalid value encountered in sqrt\n",
      " /home/ignacio/Projects/turbo-fats/turbofats/features/structure_function.py:97: RuntimeWarning:invalid value encountered in greater\n",
      " /home/ignacio/Projects/turbo-fats/turbofats/features/structure_function.py:119: RuntimeWarning:invalid value encountered in log10\n",
      " /home/ignacio/Projects/turbo-fats/turbofats/features/structure_function.py:120: RuntimeWarning:invalid value encountered in log10\n",
      " /home/ignacio/Projects/turbo-fats/turbofats/FeatureSpace.py:58: RankWarning:Polyfit may be poorly conditioned\n",
      " /home/ignacio/Projects/turbo-fats/turbofats/FeatureSpace.py:58: RankWarning:Polyfit may be poorly conditioned\n",
      " /home/ignacio/Projects/turbo-fats/turbofats/FeatureSpace.py:58: RankWarning:Polyfit may be poorly conditioned\n",
      " /home/ignacio/Projects/turbo-fats/turbofats/FeatureSpace.py:58: RankWarning:Polyfit may be poorly conditioned\n",
      " /home/ignacio/Projects/turbo-fats/turbofats/FeatureSpace.py:58: RankWarning:Polyfit may be poorly conditioned\n",
      " /home/ignacio/Projects/lc_classifier/lc_classifier/features/core/base.py:112: FutureWarning:Sorting because non-concatenation axis is not aligned. A future version\n",
      "of pandas will change to not sort by default.\n",
      "\n",
      "To accept the future behavior, pass 'sort=False'.\n",
      "\n",
      "To retain the current behavior and silence the warning, pass 'sort=True'.\n",
      "\n",
      " /home/ignacio/miniconda3/envs/lc-classifier/lib/python3.7/site-packages/scipy/optimize/minpack.py:829: OptimizeWarning:Covariance of the parameters could not be estimated\n",
      " /home/ignacio/Projects/P4J/P4J/periodograms.py:72: RuntimeWarning:divide by zero encountered in true_divide\n",
      " /home/ignacio/Projects/P4J/P4J/periodograms.py:72: RuntimeWarning:invalid value encountered in true_divide\n",
      " /home/ignacio/Projects/P4J/P4J/base_periodogram.py:50: RuntimeWarning:invalid value encountered in greater\n",
      "ERROR:root:TypeError exception in PeriodExtractor: oid ZTF18abefhat\n",
      "'NoneType' object is not iterable\n"
     ]
    },
    {
     "name": "stdout",
     "output_type": "stream",
     "text": [
      "Warning: Not enough local maxima found in the periodogram\n"
     ]
    },
    {
     "name": "stderr",
     "output_type": "stream",
     "text": [
      "ERROR:root:TypeError exception in PeriodExtractor: oid ZTF18abvtdzm\n",
      "'NoneType' object is not iterable\n"
     ]
    },
    {
     "name": "stdout",
     "output_type": "stream",
     "text": [
      "Warning: Not enough local maxima found in the periodogram\n"
     ]
    },
    {
     "name": "stderr",
     "output_type": "stream",
     "text": [
      "ERROR:root:TypeError exception in PeriodExtractor: oid ZTF18aaapdpk\n",
      "'NoneType' object is not iterable\n"
     ]
    },
    {
     "name": "stdout",
     "output_type": "stream",
     "text": [
      "Warning: Not enough local maxima found in the periodogram\n"
     ]
    },
    {
     "name": "stderr",
     "output_type": "stream",
     "text": [
      "ERROR:root:TypeError exception in PeriodExtractor: oid ZTF18abtrvxi\n",
      "'NoneType' object is not iterable\n",
      "ERROR:root:TypeError exception in PeriodExtractor: oid ZTF19abcgdkr\n",
      "'NoneType' object is not iterable\n"
     ]
    },
    {
     "name": "stdout",
     "output_type": "stream",
     "text": [
      "Warning: Not enough local maxima found in the periodogram\n",
      "Warning: Not enough local maxima found in the periodogram\n"
     ]
    },
    {
     "name": "stderr",
     "output_type": "stream",
     "text": [
      "ERROR:root:TypeError exception in PeriodExtractor: oid ZTF19abuxfqt\n",
      "'NoneType' object is not iterable\n",
      "ERROR:root:TypeError exception in PeriodExtractor: oid ZTF19abvflof\n",
      "'NoneType' object is not iterable\n"
     ]
    },
    {
     "name": "stdout",
     "output_type": "stream",
     "text": [
      "Warning: Not enough local maxima found in the periodogram\n",
      "Warning: Not enough local maxima found in the periodogram\n"
     ]
    },
    {
     "name": "stderr",
     "output_type": "stream",
     "text": [
      "ERROR:root:TypeError exception in PeriodExtractor: oid ZTF19aadlzzh\n",
      "'NoneType' object is not iterable\n"
     ]
    },
    {
     "name": "stdout",
     "output_type": "stream",
     "text": [
      "Warning: Not enough local maxima found in the periodogram\n"
     ]
    },
    {
     "name": "stderr",
     "output_type": "stream",
     "text": [
      "ERROR:root:TypeError exception in PeriodExtractor: oid ZTF19adcfvpg\n",
      "'NoneType' object is not iterable\n",
      "ERROR:root:TypeError exception in PeriodExtractor: oid ZTF19aannrmo\n",
      "'NoneType' object is not iterable\n"
     ]
    },
    {
     "name": "stdout",
     "output_type": "stream",
     "text": [
      "Warning: Not enough local maxima found in the periodogram\n",
      "Warning: Not enough local maxima found in the periodogram\n"
     ]
    },
    {
     "name": "stderr",
     "output_type": "stream",
     "text": [
      "ERROR:root:TypeError exception in PeriodExtractor: oid ZTF20aavxphg\n",
      "'NoneType' object is not iterable\n",
      "ERROR:root:TypeError exception in PeriodExtractor: oid ZTF20abchqmp\n",
      "'NoneType' object is not iterable\n"
     ]
    },
    {
     "name": "stdout",
     "output_type": "stream",
     "text": [
      "Warning: Not enough local maxima found in the periodogram\n",
      "Warning: Not enough local maxima found in the periodogram\n"
     ]
    },
    {
     "name": "stderr",
     "output_type": "stream",
     "text": [
      "ERROR:root:PeriodPowerRateExtractor: period is not available for ZTF18abefhat\n",
      "ERROR:root:PeriodPowerRateExtractor: period is not available for ZTF18abvtdzm\n",
      "ERROR:root:PeriodPowerRateExtractor: period is not available for ZTF18aaapdpk\n",
      "ERROR:root:PeriodPowerRateExtractor: period is not available for ZTF18abtrvxi\n",
      "ERROR:root:PeriodPowerRateExtractor: period is not available for ZTF19abcgdkr\n",
      "ERROR:root:PeriodPowerRateExtractor: period is not available for ZTF19abuxfqt\n",
      "ERROR:root:PeriodPowerRateExtractor: period is not available for ZTF19abvflof\n",
      "ERROR:root:PeriodPowerRateExtractor: period is not available for ZTF19aadlzzh\n",
      "ERROR:root:PeriodPowerRateExtractor: period is not available for ZTF19adcfvpg\n",
      "ERROR:root:PeriodPowerRateExtractor: period is not available for ZTF19aannrmo\n",
      "ERROR:root:PeriodPowerRateExtractor: period is not available for ZTF20aavxphg\n",
      "ERROR:root:PeriodPowerRateExtractor: period is not available for ZTF20abchqmp\n",
      " /home/ignacio/Projects/lc_classifier/lc_classifier/features/extractors/folded_kim_extractor.py:61: RuntimeWarning:invalid value encountered in true_divide\n",
      " /home/ignacio/Projects/lc_classifier/lc_classifier/features/extractors/folded_kim_extractor.py:64: RuntimeWarning:divide by zero encountered in double_scalars\n",
      " /home/ignacio/Projects/lc_classifier/lc_classifier/features/extractors/folded_kim_extractor.py:65: RuntimeWarning:invalid value encountered in double_scalars\n",
      " /home/ignacio/Projects/lc_classifier/lc_classifier/features/extractors/folded_kim_extractor.py:55: RuntimeWarning:invalid value encountered in remainder\n",
      "ERROR:root:KeyError in HarmonicsExtractor, period is not available: oid ZTF18abefhat\n",
      "SVD did not converge\n",
      "ERROR:root:KeyError in HarmonicsExtractor, period is not available: oid ZTF18abvtdzm\n",
      "SVD did not converge\n",
      "ERROR:root:KeyError in HarmonicsExtractor, period is not available: oid ZTF18aaapdpk\n",
      "SVD did not converge\n",
      "ERROR:root:KeyError in HarmonicsExtractor, period is not available: oid ZTF18abtrvxi\n",
      "SVD did not converge\n",
      "ERROR:root:KeyError in HarmonicsExtractor, period is not available: oid ZTF19abcgdkr\n",
      "SVD did not converge\n",
      " /home/ignacio/miniconda3/envs/lc-classifier/lib/python3.7/site-packages/numpy/linalg/linalg.py:1965: RuntimeWarning:invalid value encountered in greater\n",
      " /home/ignacio/Projects/lc_classifier/lc_classifier/features/extractors/harmonics_extractor.py:65: RuntimeWarning:invalid value encountered in remainder\n",
      "ERROR:root:KeyError in HarmonicsExtractor, period is not available: oid ZTF19abvflof\n",
      "SVD did not converge\n",
      "ERROR:root:KeyError in HarmonicsExtractor, period is not available: oid ZTF19aadlzzh\n",
      "SVD did not converge\n",
      "ERROR:root:KeyError in HarmonicsExtractor, period is not available: oid ZTF19adcfvpg\n",
      "SVD did not converge\n",
      "ERROR:root:KeyError in HarmonicsExtractor, period is not available: oid ZTF19aannrmo\n",
      "SVD did not converge\n",
      "ERROR:root:KeyError in HarmonicsExtractor, period is not available: oid ZTF20aavxphg\n",
      "SVD did not converge\n",
      "ERROR:root:KeyError in HarmonicsExtractor, period is not available: oid ZTF18abefhat\n",
      "SVD did not converge\n",
      "ERROR:root:KeyError in HarmonicsExtractor, period is not available: oid ZTF18abvtdzm\n",
      "SVD did not converge\n",
      "ERROR:root:KeyError in HarmonicsExtractor, period is not available: oid ZTF18aaapdpk\n",
      "SVD did not converge\n",
      "ERROR:root:KeyError in HarmonicsExtractor, period is not available: oid ZTF18abtrvxi\n",
      "SVD did not converge\n",
      "ERROR:root:KeyError in HarmonicsExtractor, period is not available: oid ZTF19abuxfqt\n",
      "SVD did not converge\n",
      "ERROR:root:KeyError in HarmonicsExtractor, period is not available: oid ZTF19aadlzzh\n",
      "SVD did not converge\n",
      "ERROR:root:KeyError in HarmonicsExtractor, period is not available: oid ZTF19adcfvpg\n",
      "SVD did not converge\n",
      "ERROR:root:KeyError in HarmonicsExtractor, period is not available: oid ZTF19aannrmo\n",
      "SVD did not converge\n",
      "ERROR:root:KeyError in HarmonicsExtractor, period is not available: oid ZTF20abchqmp\n",
      "SVD did not converge\n"
     ]
    }
   ],
   "source": [
    "features = features_computer.compute_features(\n",
    "    detections=detections,\n",
    "    non_detections=non_detections,\n",
    "    objects=object_info)"
   ]
  },
  {
   "cell_type": "code",
   "execution_count": 11,
   "metadata": {},
   "outputs": [
    {
     "name": "stdout",
     "output_type": "stream",
     "text": [
      "Amplitude_1\n",
      "Amplitude_2\n",
      "AndersonDarling_1\n",
      "AndersonDarling_2\n",
      "Autocor_length_1\n",
      "Autocor_length_2\n",
      "Beyond1Std_1\n",
      "Beyond1Std_2\n",
      "Con_1\n",
      "Con_2\n",
      "Eta_e_1\n",
      "Eta_e_2\n",
      "ExcessVar_1\n",
      "ExcessVar_2\n",
      "GP_DRW_sigma_1\n",
      "GP_DRW_sigma_2\n",
      "GP_DRW_tau_1\n",
      "GP_DRW_tau_2\n",
      "Gskew_1\n",
      "Gskew_2\n",
      "Harmonics_mag_1_1\n",
      "Harmonics_mag_1_2\n",
      "Harmonics_mag_2_1\n",
      "Harmonics_mag_2_2\n",
      "Harmonics_mag_3_1\n",
      "Harmonics_mag_3_2\n",
      "Harmonics_mag_4_1\n",
      "Harmonics_mag_4_2\n",
      "Harmonics_mag_5_1\n",
      "Harmonics_mag_5_2\n",
      "Harmonics_mag_6_1\n",
      "Harmonics_mag_6_2\n",
      "Harmonics_mag_7_1\n",
      "Harmonics_mag_7_2\n",
      "Harmonics_mse_1\n",
      "Harmonics_mse_2\n",
      "Harmonics_phase_2_1\n",
      "Harmonics_phase_2_2\n",
      "Harmonics_phase_3_1\n",
      "Harmonics_phase_3_2\n",
      "Harmonics_phase_4_1\n",
      "Harmonics_phase_4_2\n",
      "Harmonics_phase_5_1\n",
      "Harmonics_phase_5_2\n",
      "Harmonics_phase_6_1\n",
      "Harmonics_phase_6_2\n",
      "Harmonics_phase_7_1\n",
      "Harmonics_phase_7_2\n",
      "IAR_phi_1\n",
      "IAR_phi_2\n",
      "LinearTrend_1\n",
      "LinearTrend_2\n",
      "MHPS_PN_flag_1\n",
      "MHPS_PN_flag_2\n",
      "MHPS_high_1\n",
      "MHPS_high_2\n",
      "MHPS_low_1\n",
      "MHPS_low_2\n",
      "MHPS_non_zero_1\n",
      "MHPS_non_zero_2\n",
      "MHPS_ratio_1\n",
      "MHPS_ratio_2\n",
      "MaxSlope_1\n",
      "MaxSlope_2\n",
      "Mean_1\n",
      "Mean_2\n",
      "Meanvariance_1\n",
      "Meanvariance_2\n",
      "MedianAbsDev_1\n",
      "MedianAbsDev_2\n",
      "MedianBRP_1\n",
      "MedianBRP_2\n",
      "Multiband_period\n",
      "PPE\n",
      "PairSlopeTrend_1\n",
      "PairSlopeTrend_2\n",
      "PercentAmplitude_1\n",
      "PercentAmplitude_2\n",
      "Period_band_1\n",
      "Period_band_2\n",
      "Power_rate_1/2\n",
      "Power_rate_1/3\n",
      "Power_rate_1/4\n",
      "Power_rate_2\n",
      "Power_rate_3\n",
      "Power_rate_4\n",
      "Psi_CS_1\n",
      "Psi_CS_2\n",
      "Psi_eta_1\n",
      "Psi_eta_2\n",
      "Pvar_1\n",
      "Pvar_2\n",
      "Q31_1\n",
      "Q31_2\n",
      "Rcs_1\n",
      "Rcs_2\n",
      "SF_ML_amplitude_1\n",
      "SF_ML_amplitude_2\n",
      "SF_ML_gamma_1\n",
      "SF_ML_gamma_2\n",
      "SPM_A_1\n",
      "SPM_A_2\n",
      "SPM_beta_1\n",
      "SPM_beta_2\n",
      "SPM_chi_1\n",
      "SPM_chi_2\n",
      "SPM_gamma_1\n",
      "SPM_gamma_2\n",
      "SPM_t0_1\n",
      "SPM_t0_2\n",
      "SPM_tau_fall_1\n",
      "SPM_tau_fall_2\n",
      "SPM_tau_rise_1\n",
      "SPM_tau_rise_2\n",
      "Skew_1\n",
      "Skew_2\n",
      "SmallKurtosis_1\n",
      "SmallKurtosis_2\n",
      "Std_1\n",
      "Std_2\n",
      "StetsonK_1\n",
      "StetsonK_2\n",
      "delta_mag_fid_1\n",
      "delta_mag_fid_2\n",
      "delta_mjd_fid_1\n",
      "delta_mjd_fid_2\n",
      "delta_period_1\n",
      "delta_period_2\n",
      "dmag_first_det_fid_1\n",
      "dmag_first_det_fid_2\n",
      "dmag_non_det_fid_1\n",
      "dmag_non_det_fid_2\n",
      "first_mag_1\n",
      "first_mag_2\n",
      "g-r_max\n",
      "g-r_max_corr\n",
      "g-r_mean\n",
      "g-r_mean_corr\n",
      "gal_b\n",
      "gal_l\n",
      "iqr_1\n",
      "iqr_2\n",
      "last_diffmaglim_before_fid_1\n",
      "last_diffmaglim_before_fid_2\n",
      "last_mjd_before_fid_1\n",
      "last_mjd_before_fid_2\n",
      "max_diffmaglim_after_fid_1\n",
      "max_diffmaglim_after_fid_2\n",
      "max_diffmaglim_before_fid_1\n",
      "max_diffmaglim_before_fid_2\n",
      "mean_mag_1\n",
      "mean_mag_2\n",
      "median_diffmaglim_after_fid_1\n",
      "median_diffmaglim_after_fid_2\n",
      "median_diffmaglim_before_fid_1\n",
      "median_diffmaglim_before_fid_2\n",
      "min_mag_1\n",
      "min_mag_2\n",
      "n_det_1\n",
      "n_det_2\n",
      "n_neg_1\n",
      "n_neg_2\n",
      "n_non_det_after_fid_1\n",
      "n_non_det_after_fid_2\n",
      "n_non_det_before_fid_1\n",
      "n_non_det_before_fid_2\n",
      "n_pos_1\n",
      "n_pos_2\n",
      "positive_fraction_1\n",
      "positive_fraction_2\n",
      "rb\n",
      "sgscore1\n"
     ]
    }
   ],
   "source": [
    "for feature in features.columns:\n",
    "    print(feature)"
   ]
  },
  {
   "cell_type": "code",
   "execution_count": 8,
   "metadata": {},
   "outputs": [
    {
     "name": "stdout",
     "output_type": "stream",
     "text": [
      "74 objects out of 485 don't have features ['ZTF19abcgdkr', 'ZTF20aawagxa', 'ZTF19adcfrvn', 'ZTF18aauipis', 'ZTF20aaxcthi', 'ZTF19aamnubo', 'ZTF19adcfnyc', 'ZTF18abpyasr', 'ZTF20aavxphg', 'ZTF19abqstat', 'ZTF19abcnlpp', 'ZTF20aapcoxv', 'ZTF20abchqmp', 'ZTF20aapnacw', 'ZTF18abzpdkq', 'ZTF20aawlwfx', 'ZTF18aashcfs', 'ZTF19abztrlv', 'ZTF19acbjnei', 'ZTF19aaskjoo', 'ZTF19aaujnth', 'ZTF19aamozya', 'ZTF19aadlzzh', 'ZTF18acibeqd', 'ZTF18aapuheo', 'ZTF19aabfrlc', 'ZTF18abahdyl', 'ZTF19acnyjtb', 'ZTF19adccmdp', 'ZTF20aapndzj', 'ZTF18aajhrvr', 'ZTF18accdeht', 'ZTF19aclqxzm', 'ZTF18abwbopw', 'ZTF18abvtdzm', 'ZTF19adcfvpg', 'ZTF19aacqfol', 'ZTF18adasgea', 'ZTF19aanevrw', 'ZTF20aaeibqo', 'ZTF20aaicdhx', 'ZTF20aafdsba', 'ZTF18abotaqw', 'ZTF18abjlial', 'ZTF20aazfvln', 'ZTF19abvflof', 'ZTF19aannrmo', 'ZTF18abddohm', 'ZTF18aaapdpk', 'ZTF18aboacia', 'ZTF19abxgenk', 'ZTF18aaukrps', 'ZTF19abuxfqt', 'ZTF18aajedfg', 'ZTF20aadvasi', 'ZTF19aapkrqp', 'ZTF19adcfowp', 'ZTF18aaaagoy', 'ZTF19abfqlih', 'ZTF18aceezaa', 'ZTF18acerlpm', 'ZTF18abhxigv', 'ZTF19aamwsnq', 'ZTF19aauethb', 'ZTF19acigeac', 'ZTF20aapojsa', 'ZTF18acwyxty', 'ZTF18abefhat', 'ZTF18abmouki', 'ZTF18aabcchi', 'ZTF18acezmjz', 'ZTF19aaailrw', 'ZTF18abtrvxi', 'ZTF18aaaomtu']\n"
     ]
    }
   ],
   "source": [
    "missing_oids = set(detections.index.unique().values) - set(features.index.values)\n",
    "missing_oids = list(missing_oids)\n",
    "print(len(missing_oids), \"objects out of\", \n",
    "      len(detections.index.unique()), \"don't have features\", missing_oids)"
   ]
  },
  {
   "cell_type": "code",
   "execution_count": 9,
   "metadata": {},
   "outputs": [
    {
     "name": "stdout",
     "output_type": "stream",
     "text": [
      "ZTF19abcgdkr 12\n",
      "ZTF20aawagxa 7\n",
      "ZTF19adcfrvn 11\n",
      "ZTF18aauipis 9\n",
      "ZTF20aaxcthi 36\n",
      "ZTF19aamnubo 34\n",
      "ZTF19adcfnyc 56\n",
      "ZTF18abpyasr 8\n",
      "ZTF20aavxphg 46\n",
      "ZTF19abqstat 56\n",
      "ZTF19abcnlpp 10\n",
      "ZTF20aapcoxv 12\n",
      "ZTF20abchqmp 34\n",
      "ZTF20aapnacw 10\n",
      "ZTF18abzpdkq 20\n",
      "ZTF20aawlwfx 38\n",
      "ZTF18aashcfs 218\n",
      "ZTF19abztrlv 9\n",
      "ZTF19acbjnei 242\n",
      "ZTF19aaskjoo 9\n",
      "ZTF19aaujnth 11\n",
      "ZTF19aamozya 36\n",
      "ZTF19aadlzzh 112\n",
      "ZTF18acibeqd 34\n",
      "ZTF18aapuheo 84\n",
      "ZTF19aabfrlc 32\n",
      "ZTF18abahdyl 30\n",
      "ZTF19acnyjtb 26\n",
      "ZTF19adccmdp 9\n",
      "ZTF20aapndzj 28\n",
      "ZTF18aajhrvr 13\n",
      "ZTF18accdeht 11\n",
      "ZTF19aclqxzm 40\n",
      "ZTF18abwbopw 8\n",
      "ZTF18abvtdzm 36\n",
      "ZTF19adcfvpg 76\n",
      "ZTF19aacqfol 55\n",
      "ZTF18adasgea 58\n",
      "ZTF19aanevrw 10\n",
      "ZTF20aaeibqo 82\n",
      "ZTF20aaicdhx 8\n",
      "ZTF20aafdsba 11\n",
      "ZTF18abotaqw 14\n",
      "ZTF18abjlial 30\n",
      "ZTF20aazfvln 12\n",
      "ZTF19abvflof 46\n",
      "ZTF19aannrmo 42\n",
      "ZTF18abddohm 106\n",
      "ZTF18aaapdpk 44\n",
      "ZTF18aboacia 10\n",
      "ZTF19abxgenk 17\n",
      "ZTF18aaukrps 204\n",
      "ZTF19abuxfqt 50\n",
      "ZTF18aajedfg 136\n",
      "ZTF20aadvasi 7\n",
      "ZTF19aapkrqp 7\n",
      "ZTF19adcfowp 46\n",
      "ZTF18aaaagoy 58\n",
      "ZTF19abfqlih 12\n",
      "ZTF18aceezaa 60\n",
      "ZTF18acerlpm 60\n",
      "ZTF18abhxigv 45\n",
      "ZTF19aamwsnq 58\n",
      "ZTF19aauethb 9\n",
      "ZTF19acigeac 10\n",
      "ZTF20aapojsa 10\n",
      "ZTF18acwyxty 9\n",
      "ZTF18abefhat 28\n",
      "ZTF18abmouki 76\n",
      "ZTF18aabcchi 9\n",
      "ZTF18acezmjz 8\n",
      "ZTF19aaailrw 20\n",
      "ZTF18abtrvxi 162\n",
      "ZTF18aaaomtu 222\n"
     ]
    }
   ],
   "source": [
    "for oid in missing_oids:\n",
    "    detections_from_oid = detections.loc[oid]\n",
    "    print(oid, len(detections_from_oid))"
   ]
  }
 ],
 "metadata": {
  "kernelspec": {
   "display_name": "Python 3",
   "language": "python",
   "name": "python3"
  },
  "language_info": {
   "codemirror_mode": {
    "name": "ipython",
    "version": 3
   },
   "file_extension": ".py",
   "mimetype": "text/x-python",
   "name": "python",
   "nbconvert_exporter": "python",
   "pygments_lexer": "ipython3",
   "version": "3.7.7"
  }
 },
 "nbformat": 4,
 "nbformat_minor": 4
}
